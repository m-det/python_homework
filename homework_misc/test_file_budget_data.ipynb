{
 "cells": [
  {
   "cell_type": "code",
   "execution_count": 1,
   "id": "dc47744a-0b8b-4d90-a086-cc7b833627a1",
   "metadata": {},
   "outputs": [],
   "source": [
    "# create list\n",
    "\n",
    "budget_data = [\n",
    "    ['jun1',867884],\n",
    "    ['jun2',984655],\n",
    "    ['june3',322013],\n",
    "    ['june4',-69417],\n",
    "    ['june5',310503],\n",
    "    ['june6', 522857],\n",
    "    ['june7', 1033096],\n",
    "    ['june8', 604558]    \n",
    "]"
   ]
  },
  {
   "cell_type": "code",
   "execution_count": 17,
   "id": "38283535-01f7-418d-a897-19fa77c36072",
   "metadata": {},
   "outputs": [],
   "source": [
    "# Intialize metrics\n",
    "\n",
    "total_days = 0\n",
    "total_revenue = 0 \n",
    "average_change = 0\n",
    "greatest_increase = 0\n",
    "greatest_decrease = 0"
   ]
  },
  {
   "cell_type": "code",
   "execution_count": 12,
   "id": "405f887f-7920-4c7d-abde-20ba5b11336a",
   "metadata": {},
   "outputs": [
    {
     "name": "stdout",
     "output_type": "stream",
     "text": [
      "['jun1', 867884]\n",
      "['jun2', 984655]\n",
      "['june3', 322013]\n",
      "['june4', -69417]\n",
      "['june5', 310503]\n",
      "['june6', 522857]\n",
      "['june7', 1033096]\n",
      "['june8', 604558]\n"
     ]
    }
   ],
   "source": [
    "for revenue in budget_data:\n",
    "    print(revenue)"
   ]
  },
  {
   "cell_type": "code",
   "execution_count": 22,
   "id": "63b4db4e-c299-42e2-9de7-d702fa7bc2c0",
   "metadata": {},
   "outputs": [
    {
     "ename": "SyntaxError",
     "evalue": "invalid syntax (<ipython-input-22-046dc997af29>, line 3)",
     "output_type": "error",
     "traceback": [
      "\u001b[1;36m  File \u001b[1;32m\"<ipython-input-22-046dc997af29>\"\u001b[1;36m, line \u001b[1;32m3\u001b[0m\n\u001b[1;33m    day_change = sum += date[1]\u001b[0m\n\u001b[1;37m                     ^\u001b[0m\n\u001b[1;31mSyntaxError\u001b[0m\u001b[1;31m:\u001b[0m invalid syntax\n"
     ]
    }
   ],
   "source": [
    "\n",
    "for date in budget_data:\n",
    "    def add_revenue (current_day, previous_day):\n",
    "        day_change = sum += date[1]\n",
    "print(pnl)"
   ]
  },
  {
   "cell_type": "code",
   "execution_count": 14,
   "id": "d1caedb6-0627-46c9-a2bf-b86990bbc632",
   "metadata": {},
   "outputs": [],
   "source": [
    "average_change = 0"
   ]
  },
  {
   "cell_type": "code",
   "execution_count": null,
   "id": "69fcab27-4949-4205-a33a-77047b547ac6",
   "metadata": {},
   "outputs": [],
   "source": [
    "for change in budget_data:\n",
    "    sum += "
   ]
  }
 ],
 "metadata": {
  "kernelspec": {
   "display_name": "Python 3",
   "language": "python",
   "name": "python3"
  },
  "language_info": {
   "codemirror_mode": {
    "name": "ipython",
    "version": 3
   },
   "file_extension": ".py",
   "mimetype": "text/x-python",
   "name": "python",
   "nbconvert_exporter": "python",
   "pygments_lexer": "ipython3",
   "version": "3.8.8"
  }
 },
 "nbformat": 4,
 "nbformat_minor": 5
}
