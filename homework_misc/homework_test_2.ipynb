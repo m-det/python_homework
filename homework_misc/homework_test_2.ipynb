{
 "cells": [
  {
   "cell_type": "code",
   "execution_count": 1,
   "id": "1d7062f5-80e4-4453-a6e7-eab29701f02b",
   "metadata": {},
   "outputs": [],
   "source": [
    "import os\n",
    "import csv\n",
    "csvpath=os.path.join(\"budget_data.csv\")"
   ]
  },
  {
   "cell_type": "code",
   "execution_count": 2,
   "id": "e4f0b2c0-f9bd-49f7-80df-7bd9a8315c57",
   "metadata": {},
   "outputs": [],
   "source": [
    "total_months=0\n",
    "total_revenue=0\n",
    "average_change=0\n",
    "greatest_increase=0\n",
    "greatest_decrease=0"
   ]
  },
  {
   "cell_type": "code",
   "execution_count": 4,
   "id": "0ba32d2f-e1e6-480a-9ada-fabc0c917691",
   "metadata": {},
   "outputs": [
    {
     "ename": "TypeError",
     "evalue": "unsupported operand type(s) for +=: 'builtin_function_or_method' and 'int'",
     "output_type": "error",
     "traceback": [
      "\u001b[1;31m---------------------------------------------------------------------------\u001b[0m",
      "\u001b[1;31mTypeError\u001b[0m                                 Traceback (most recent call last)",
      "\u001b[1;32m<ipython-input-4-b6f2ae9420bb>\u001b[0m in \u001b[0;36m<module>\u001b[1;34m\u001b[0m\n\u001b[0;32m      4\u001b[0m     \u001b[0mcsv_header\u001b[0m\u001b[1;33m.\u001b[0m\u001b[0mappend\u001b[0m\u001b[1;33m(\u001b[0m\u001b[1;34m\"Monthly Change\"\u001b[0m\u001b[1;33m)\u001b[0m\u001b[1;33m\u001b[0m\u001b[1;33m\u001b[0m\u001b[0m\n\u001b[0;32m      5\u001b[0m     \u001b[1;32mfor\u001b[0m \u001b[0mrow\u001b[0m \u001b[1;32min\u001b[0m \u001b[0mcsvreader\u001b[0m\u001b[1;33m:\u001b[0m\u001b[1;33m\u001b[0m\u001b[1;33m\u001b[0m\u001b[0m\n\u001b[1;32m----> 6\u001b[1;33m         \u001b[0msum\u001b[0m \u001b[1;33m+=\u001b[0m \u001b[0mint\u001b[0m\u001b[1;33m(\u001b[0m\u001b[0mrow\u001b[0m\u001b[1;33m[\u001b[0m\u001b[1;36m1\u001b[0m\u001b[1;33m]\u001b[0m\u001b[1;33m)\u001b[0m\u001b[1;33m\u001b[0m\u001b[1;33m\u001b[0m\u001b[0m\n\u001b[0m",
      "\u001b[1;31mTypeError\u001b[0m: unsupported operand type(s) for +=: 'builtin_function_or_method' and 'int'"
     ]
    }
   ],
   "source": [
    "with open(csvpath, 'r') as csvfile:\n",
    "    csvreader=csv.reader(csvfile, delimiter=\",\")\n",
    "    csv_header=next(csvreader)\n",
    "    csv_header.append(\"Monthly Change\")\n",
    "    for row in csvreader:\n",
    "        sum += int(row[1])"
   ]
  },
  {
   "cell_type": "code",
   "execution_count": null,
   "id": "c7562f59-522b-4cab-a961-e05fe69c99ec",
   "metadata": {},
   "outputs": [],
   "source": [
    "budget_data_copy = {\n",
    "    'Jan-2010',867884,\n",
    "    'Feb-2010',984655,\n",
    "    'Mar-2010',322013,\n",
    "    'Apr-2010',-69417,\n",
    "    'May-2010',310503,\n",
    "    'Jun-2010',522857,\n",
    "    'Jul-2010',1033096,\n",
    "    'Aug-2010',604885,\n",
    "    'Sep-2010',-216386,\n",
    "    'Oct-2010',477532,\n",
    "    'Nov-2010',893810,\n",
    "    'Dec-2010',-80353,\n",
    "    'Jan-2011',779806,\n",
    "    'Feb-2011',-335203,\n",
    "    'Mar-2011',697845,\n",
    "    'Apr-2011',793163,\n",
    "    'May-2011',485070,\n",
    "    'Jun-2011',584122,\n",
    "    'Jul-2011',62729,\n",
    "    'Aug-2011',668179,\n",
    "    'Sep-2011',899906,\n",
    "    'Oct-2011',834719,\n",
    "    'Nov-2011',132003,\n",
    "    'Dec-2011',309978,\n",
    "    'Jan-2012',-755566,\n",
    "    'Feb-2012',1170593,\n",
    "    'Mar-2012',252788,\n",
    "    'Apr-2012',1151518,\n",
    "    'May-2012',817256,\n",
    "    'Jun-2012',570757,\n",
    "    'Jul-2012',506702,\n",
    "    'Aug-2012',-1022534,\n",
    "    'Sep-2012',475062,\n",
    "    'Oct-2012',779976,\n",
    "    'Nov-2012',144175,\n",
    "    'Dec-2012',542494,\n",
    "    'Jan-2013',359333,\n",
    "    'Feb-2013',321469,\n",
    "    'Mar-2013',67780,\n",
    "    'Apr-2013',471435,\n",
    "    'May-2013',565603,\n",
    "    'Jun-2013',872480,\n",
    "    'Jul-2013',789480,\n",
    "    'Aug-2013',999942,\n",
    "    'Sep-2013',-1196225,\n",
    "    'Oct-2013',268997,\n",
    "    'Nov-2013',-687986,\n",
    "    'Dec-2013',1150461,\n",
    "    'Jan-2014',682458,\n",
    "    'Feb-2014',617856,\n",
    "    'Mar-2014',824098,\n",
    "    'Apr-2014',581943,\n",
    "    'May-2014',132864,\n",
    "    'Jun-2014',448062,\n",
    "    'Jul-2014',689161,\n",
    "    'Aug-2014',800701,\n",
    "    'Sep-2014',1166643,\n",
    "    'Oct-2014',947333,\n",
    "    'Nov-2014',578668,\n",
    "    'Dec-2014',988505,\n",
    "    'Jan-2015',1139715,\n",
    "    'Feb-2015',1029471,\n",
    "    'Mar-2015',687533,\n",
    "    'Apr-2015',-524626,\n",
    "    'May-2015',158620,\n",
    "    'Jun-2015',87795,\n",
    "    'Jul-2015',423389,\n",
    "    'Aug-2015',840723,\n",
    "    'Sep-2015',568529,\n",
    "    'Oct-2015',332067,\n",
    "    'Nov-2015',989499,\n",
    "    'Dec-2015',778237,\n",
    "    'Jan-2016',650000,\n",
    "    'Feb-2016',-1100387,\n",
    "    'Mar-2016',-174946,\n",
    "    'Apr-2016',757143,\n",
    "    'May-2016',445709,\n",
    "    'Jun-2016',712961,\n",
    "    'Jul-2016',-1163797,\n",
    "    'Aug-2016',569899,\n",
    "    'Sep-2016',768450,\n",
    "    'Oct-2016',102685,\n",
    "    'Nov-2016',795914,\n",
    "    'Dec-2016',60988,\n",
    "    'Jan-2017',138230,\n",
    "    'Feb-2017',671099\n",
    "}"
   ]
  },
  {
   "cell_type": "code",
   "execution_count": null,
   "id": "9b418c4a-bec7-4448-a9de-9d0e3fa8fca1",
   "metadata": {},
   "outputs": [],
   "source": []
  }
 ],
 "metadata": {
  "kernelspec": {
   "display_name": "Python 3",
   "language": "python",
   "name": "python3"
  },
  "language_info": {
   "codemirror_mode": {
    "name": "ipython",
    "version": 3
   },
   "file_extension": ".py",
   "mimetype": "text/x-python",
   "name": "python",
   "nbconvert_exporter": "python",
   "pygments_lexer": "ipython3",
   "version": "3.8.8"
  }
 },
 "nbformat": 4,
 "nbformat_minor": 5
}
