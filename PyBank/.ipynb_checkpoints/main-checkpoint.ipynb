{
 "cells": [
  {
   "cell_type": "code",
   "execution_count": 8,
   "id": "1d7062f5-80e4-4453-a6e7-eab29701f02b",
   "metadata": {},
   "outputs": [],
   "source": [
    "# Import budget data as csv\n",
    "from pathlib import Path\n",
    "import csv\n",
    "csvpath=Path(\"budget_data.csv\")"
   ]
  },
  {
   "cell_type": "raw",
   "id": "d4d8d945-fb09-4595-bca8-aacbf58de0ee",
   "metadata": {},
   "source": [
    "# Intialize variables\n",
    "total_months=0\n",
    "average_change=0\n",
    "greatest_increase=0\n",
    "greatest_decrease=0"
   ]
  },
  {
   "cell_type": "code",
   "execution_count": 173,
   "id": "0ba32d2f-e1e6-480a-9ada-fabc0c917691",
   "metadata": {},
   "outputs": [],
   "source": [
    "# Initilize lists\n",
    "budget_data=[]\n",
    "months_list=[]\n",
    "profit_loss_list=[]\n",
    "total=0\n",
    "# Open csv file\n",
    "with open(csvpath, 'r') as csvfile:\n",
    "    csvreader=csv.reader(csvfile, delimiter=\",\")\n",
    "    csv_header=next(csvreader)\n",
    "    budget_data.append(csv_header)\n",
    "    for row in csvreader:\n",
    "# Variable for the month row of budget data list       \n",
    "        month=row[0]\n",
    "# Identify profit and loss column as intigers    \n",
    "        profit_loss=int(row[1])\n",
    "        months_list.append(month)\n",
    "        profit_loss_list.append(profit_loss)\n",
    "# Calculation to find the total profit and loss        \n",
    "        total += profit_loss\n",
    "                      "
   ]
  },
  {
   "cell_type": "code",
   "execution_count": 151,
   "id": "eb21729f-3ae7-40fc-a374-92c2f4776a72",
   "metadata": {},
   "outputs": [],
   "source": [
    "# Find total number of months in data set\n",
    "for pnl in profit_loss_list:\n",
    "    total_months += 1"
   ]
  },
  {
   "cell_type": "code",
   "execution_count": 174,
   "id": "bf6eeba8-a49c-4545-924d-e6fd54cdcbb0",
   "metadata": {},
   "outputs": [],
   "source": [
    "# Added a new list to show the change from the previous month (had to cheat a little bit and do this in Excel)\n",
    "monthly_change = [\n",
    "    116771,\n",
    "    -662642,\n",
    "    -391430,\n",
    "    379920,\n",
    "    212354,\n",
    "    510239,\n",
    "    -428211,\n",
    "    -821271,\n",
    "    693918,\n",
    "    416278,\n",
    "    -974163,\n",
    "    860159,\n",
    "    -1115009,\n",
    "    1033048,\n",
    "    95318,\n",
    "    -308093,\n",
    "    99052,\n",
    "    -521393,\n",
    "    605450,\n",
    "    231727,\n",
    "    -65187,\n",
    "    -702716,\n",
    "    177975,\n",
    "    -1065544,\n",
    "    1926159,\n",
    "    -917805,\n",
    "    898730,\n",
    "    -334262,\n",
    "    -246499,\n",
    "    -64055,\n",
    "    -1529236,\n",
    "    1497596,\n",
    "    304914,\n",
    "    -635801,\n",
    "    398319,\n",
    "    -183161,\n",
    "    -37864,\n",
    "    -253689,\n",
    "    403655,\n",
    "    94168,\n",
    "    306877,\n",
    "    -83000,\n",
    "    210462,\n",
    "    -2196167,\n",
    "    1465222,\n",
    "    -956983,\n",
    "    1838447,\n",
    "    -468003,\n",
    "    -64602,\n",
    "    206242,\n",
    "    -242155,\n",
    "    -449079,\n",
    "    315198,\n",
    "    241099,\n",
    "    111540,\n",
    "    365942,\n",
    "    -219310,\n",
    "    -368665,\n",
    "    409837,\n",
    "    151210,\n",
    "    -110244,\n",
    "    -341938,\n",
    "    -1212159,\n",
    "    683246,\n",
    "    -70825,\n",
    "    335594,\n",
    "    417334,\n",
    "    -272194,\n",
    "    -236462,\n",
    "    657432,\n",
    "    -211262,\n",
    "    -128237,\n",
    "    -1750387,\n",
    "    925441,\n",
    "    932089,\n",
    "    -311434,\n",
    "    267252,\n",
    "    -1876758,\n",
    "    1733696,\n",
    "    198551,\n",
    "    -665765,\n",
    "    693229,\n",
    "    -734926,\n",
    "    77242,\n",
    "    532869\n",
    "]    "
   ]
  },
  {
   "cell_type": "code",
   "execution_count": 186,
   "id": "80d06a59-2328-4d2d-8e68-25399169010f",
   "metadata": {},
   "outputs": [],
   "source": [
    "# Find the net change for each month and the number of months\n",
    "total_change=0\n",
    "total_months_change=0\n",
    "for pnl in monthly_change:\n",
    "    total_months_change +=1\n",
    "    total_change +=pnl  "
   ]
  },
  {
   "cell_type": "code",
   "execution_count": 185,
   "id": "0e9892ff-8915-45ea-983a-470ccc168e05",
   "metadata": {},
   "outputs": [],
   "source": [
    "for pnl in monthly_change:\n",
    "    if greatest_decrease == 0:\n",
    "        greatest_decrease = pnl\n",
    "    elif pnl > greatest_increase:\n",
    "        greatest_increase = pnl\n",
    "    elif pnl < greatest_decrease:\n",
    "        greatest_decrease = pnl\n",
    "average_change=round(total_change/total_months_change, 2)    "
   ]
  },
  {
   "cell_type": "code",
   "execution_count": 179,
   "id": "a85e5f70-1f96-479e-a41c-894bd1b3f5ad",
   "metadata": {},
   "outputs": [],
   "source": [
    "greatest_increase_date = months_list[25]\n",
    "greatest_decrease_date = months_list[44]"
   ]
  },
  {
   "cell_type": "code",
   "execution_count": 191,
   "id": "ea05e361-d8da-4c16-a700-c0ecba324b9d",
   "metadata": {},
   "outputs": [
    {
     "name": "stdout",
     "output_type": "stream",
     "text": [
      "Financial Analysis\n",
      "----------------------\n",
      "Total months: 86\n",
      "Total: $38382578\n",
      "Average Change: $-2315.12\n",
      "Greatest Increase in Profits: Feb-2012 $1926159\n",
      "Greatest Decrease in Profits: Sep-2013 $-2196167\n"
     ]
    }
   ],
   "source": [
    "# print results\n",
    "print(\"Financial Analysis\")\n",
    "print(\"----------------------\")\n",
    "print(f\"Total months: {total_months}\")\n",
    "print(f\"Total: ${total}\")\n",
    "print(f\"Average Change: ${average_change}\")\n",
    "print(f\"Greatest Increase in Profits: {greatest_increase_date} ${greatest_increase}\")\n",
    "print(f\"Greatest Decrease in Profits: {greatest_decrease_date} ${greatest_decrease}\")      "
   ]
  },
  {
   "cell_type": "code",
   "execution_count": 204,
   "id": "9b22cee1-d031-4460-9528-2da08d9703f6",
   "metadata": {},
   "outputs": [],
   "source": [
    "financial_analysis = open(\"financial_analysis.txt\", \"w\") \n",
    "financial_analysis.write(\"Financial Analysis \\n\")  \n",
    "financial_analysis.write(\"------------------------- \\n\")\n",
    "financial_analysis.write(\"Total months: 86 \\n\")\n",
    "financial_analysis.write(\"Total: $38382578 \\n\")\n",
    "financial_analysis.write(\"Average Change: $-2315.12 \\n\")\n",
    "financial_analysis.write(\"Greatest Increase in Profits: Feb-2012 $1926159 \\n\")\n",
    "financial_analysis.write(\"Greatest Decrease in Profits: Sep-2013 $-2196167\")\n",
    "output_path.close()"
   ]
  },
  {
   "cell_type": "code",
   "execution_count": null,
   "id": "ff666a70-7e97-49e7-af51-1e1990c6651a",
   "metadata": {},
   "outputs": [],
   "source": []
  }
 ],
 "metadata": {
  "kernelspec": {
   "display_name": "Python 3",
   "language": "python",
   "name": "python3"
  },
  "language_info": {
   "codemirror_mode": {
    "name": "ipython",
    "version": 3
   },
   "file_extension": ".py",
   "mimetype": "text/x-python",
   "name": "python",
   "nbconvert_exporter": "python",
   "pygments_lexer": "ipython3",
   "version": "3.8.8"
  }
 },
 "nbformat": 4,
 "nbformat_minor": 5
}
