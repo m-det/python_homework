{
 "cells": [
  {
   "cell_type": "code",
   "execution_count": 164,
   "id": "9dc216a7-88c9-4295-a0d6-0d3e97900fbb",
   "metadata": {},
   "outputs": [],
   "source": [
    " # Initialize variables\n",
    "    \n",
    "total_months = 0\n",
    "total_revenue = 0\n",
    "average_change = 0\n",
    "greatest_increase = 0\n",
    "greatest_decrease = 0"
   ]
  },
  {
   "cell_type": "code",
   "execution_count": 75,
   "id": "aaeef9d6-c1f1-45dc-9f37-167bb7bd4a3b",
   "metadata": {},
   "outputs": [],
   "source": [
    "# Create Budget Data list\n",
    "budget_data = []"
   ]
  },
  {
   "cell_type": "code",
   "execution_count": 84,
   "id": "cb2866d0-3bb6-459b-95eb-c42c996e92c0",
   "metadata": {},
   "outputs": [],
   "source": [
    "# Import the pathlib and csv library\n",
    "from pathlib import Path\n",
    "import csv\n",
    "\n",
    "# Set the file path\n",
    "csvpath=('budget_data.csv')\n",
    "\n",
    "# Initialize list of budget data\n",
    "budget_data = []\n",
    "month_data =[]\n",
    "with open(csvpath, 'r') as csvfile:\n",
    "    csvreader=csv.reader(csvfile, delimiter=',')\n",
    "    csv_header.append(\"Monthly Change\")\n",
    "    budget_data.append(csv_header)\n",
    "    csv_header=next(csvreader)\n",
    "    for row in csvreader:      \n",
    "        profit_losses=int(row[1])\n",
    "        monthly_change = 0\n",
    "        row.append(monthly_change)\n",
    "        budget_data.append(row)\n",
    "    \n",
    "        "
   ]
  },
  {
   "cell_type": "code",
   "execution_count": 79,
   "id": "cdf45863-9671-4bbe-855d-a5ae2fbe60eb",
   "metadata": {},
   "outputs": [
    {
     "ename": "TypeError",
     "evalue": "unsupported operand type(s) for +=: 'builtin_function_or_method' and 'str'",
     "output_type": "error",
     "traceback": [
      "\u001b[1;31m---------------------------------------------------------------------------\u001b[0m",
      "\u001b[1;31mTypeError\u001b[0m                                 Traceback (most recent call last)",
      "\u001b[1;32m<ipython-input-79-8f2c2111104f>\u001b[0m in \u001b[0;36m<module>\u001b[1;34m\u001b[0m\n\u001b[0;32m      2\u001b[0m \u001b[1;32mfor\u001b[0m \u001b[0mmonth_data\u001b[0m \u001b[1;32min\u001b[0m \u001b[0mbudget_data\u001b[0m\u001b[1;33m[\u001b[0m\u001b[1;36m1\u001b[0m\u001b[1;33m]\u001b[0m\u001b[1;33m:\u001b[0m\u001b[1;33m\u001b[0m\u001b[1;33m\u001b[0m\u001b[0m\n\u001b[0;32m      3\u001b[0m     \u001b[1;32mfor\u001b[0m \u001b[0mprofit_and_loss\u001b[0m \u001b[1;32min\u001b[0m \u001b[0mmonth_data\u001b[0m\u001b[1;33m:\u001b[0m\u001b[1;33m\u001b[0m\u001b[1;33m\u001b[0m\u001b[0m\n\u001b[1;32m----> 4\u001b[1;33m         \u001b[0msum\u001b[0m \u001b[1;33m+=\u001b[0m \u001b[0mprofit_and_loss\u001b[0m\u001b[1;33m\u001b[0m\u001b[1;33m\u001b[0m\u001b[0m\n\u001b[0m\u001b[0;32m      5\u001b[0m \u001b[0mprint\u001b[0m\u001b[1;33m(\u001b[0m\u001b[0mprofit_and_loss\u001b[0m\u001b[1;33m)\u001b[0m\u001b[1;33m\u001b[0m\u001b[1;33m\u001b[0m\u001b[0m\n",
      "\u001b[1;31mTypeError\u001b[0m: unsupported operand type(s) for +=: 'builtin_function_or_method' and 'str'"
     ]
    }
   ],
   "source": [
    "# Create for loop to add total Profits and Losses\n",
    "for month_data in budget_data[1]:\n",
    "    for profit_and_loss in month_data:\n",
    "        sum += profit_and_loss\n",
    "print(profit_and_loss)"
   ]
  },
  {
   "cell_type": "code",
   "execution_count": 11,
   "id": "d99030e7-9523-41f8-8080-e2d79cbfcf69",
   "metadata": {},
   "outputs": [
    {
     "name": "stdout",
     "output_type": "stream",
     "text": [
      "Month one change is, 116771\n"
     ]
    }
   ],
   "source": [
    "# create a function to find daily average\n",
    "def find_monthly_change(beginning_profit, ending_profit):\n",
    "    monthly_change = ending_profit - beginning_profit\n",
    "    return monthly_change\n",
    "    \n",
    "beginning_profit = int(budget_data[2][1])\n",
    "ending_profit = int(budget_data[1][1])\n",
    "month_one_change = find_monthly_change(ending_profit, beginning_profit)\n",
    "print(f\"Month one change is, {month_one_change}\")\n"
   ]
  },
  {
   "cell_type": "code",
   "execution_count": null,
   "id": "25937611-6b89-49df-957d-b508dc2c1819",
   "metadata": {},
   "outputs": [],
   "source": []
  },
  {
   "cell_type": "code",
   "execution_count": 12,
   "id": "77a8ff8a-cf86-435c-ae42-f42a53e5f92f",
   "metadata": {},
   "outputs": [
    {
     "name": "stdout",
     "output_type": "stream",
     "text": [
      "-116771\n",
      "-116771\n",
      "-116771\n"
     ]
    }
   ],
   "source": [
    "# Create a loop to repeat find_monthly_change function\n",
    "for row in budget_data[1]:\n",
    "    beginning_profit = int(budget_data[1][1])\n",
    "    ending_profit = int(budget_data[2][1])    \n",
    "    current_month_change = find_monthly_change(ending_profit, beginning_profit)\n",
    "    print(current_month_change)\n"
   ]
  },
  {
   "cell_type": "code",
   "execution_count": 43,
   "id": "95dab49c-d4fd-4edb-b566-603d7403b505",
   "metadata": {},
   "outputs": [
    {
     "name": "stdout",
     "output_type": "stream",
     "text": [
      "['Date', 'Profit/Losses', 'Monthly Change']\n"
     ]
    }
   ],
   "source": [
    "print(csv_header)"
   ]
  },
  {
   "cell_type": "code",
   "execution_count": null,
   "id": "1f20d90c-360c-46b3-8580-d6503c514cb6",
   "metadata": {},
   "outputs": [],
   "source": []
  }
 ],
 "metadata": {
  "kernelspec": {
   "display_name": "Python 3",
   "language": "python",
   "name": "python3"
  },
  "language_info": {
   "codemirror_mode": {
    "name": "ipython",
    "version": 3
   },
   "file_extension": ".py",
   "mimetype": "text/x-python",
   "name": "python",
   "nbconvert_exporter": "python",
   "pygments_lexer": "ipython3",
   "version": "3.8.8"
  }
 },
 "nbformat": 4,
 "nbformat_minor": 5
}
